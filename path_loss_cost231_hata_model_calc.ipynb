{
  "nbformat": 4,
  "nbformat_minor": 0,
  "metadata": {
    "colab": {
      "name": "path_loss_cost231_hata_model_calc.ipynb",
      "provenance": [],
      "collapsed_sections": [],
      "authorship_tag": "ABX9TyN2dPzF2WpVeO5dysu8O7Lm",
      "include_colab_link": true
    },
    "kernelspec": {
      "name": "python3",
      "display_name": "Python 3"
    }
  },
  "cells": [
    {
      "cell_type": "markdown",
      "metadata": {
        "id": "view-in-github",
        "colab_type": "text"
      },
      "source": [
        "<a href=\"https://colab.research.google.com/github/moefqy/path-loss-cost231-hata-model-calc/blob/main/path_loss_cost231_hata_model_calc.ipynb\" target=\"_parent\"><img src=\"https://colab.research.google.com/assets/colab-badge.svg\" alt=\"Open In Colab\"/></a>"
      ]
    },
    {
      "cell_type": "markdown",
      "metadata": {
        "id": "99AlsllbKe1w"
      },
      "source": [
        "#Path Loss COST231 HATA Model Calculator for TUGAS12: Pemrograman Python\n",
        "\n",
        "Name: A. Muh. Mufqi Zuhudi<br/>\n",
        "NIM: 1101208451<br/>\n",
        "Class: TTX-44-01 "
      ]
    },
    {
      "cell_type": "code",
      "metadata": {
        "id": "koT1wwfa6sTX"
      },
      "source": [
        "#import numpy library\n",
        "import numpy as np"
      ],
      "execution_count": 1,
      "outputs": []
    },
    {
      "cell_type": "code",
      "metadata": {
        "id": "K8E6FfM9DG7O"
      },
      "source": [
        "#NtL = numeric to dB; LtN = db to numberic\n",
        "NtL = lambda x: 10*np.log10(x)\n",
        "LtN = lambda x: 10**(x/10)"
      ],
      "execution_count": 2,
      "outputs": []
    },
    {
      "cell_type": "code",
      "metadata": {
        "id": "TTCFYAFtCNH7"
      },
      "source": [
        "#define area type function\n",
        "def areatype(cm,fc):\n",
        "  if cm in [\"urban\",\"Urban\",\"URBAN\"]:\n",
        "    cmr = 0\n",
        "    return cmr\n",
        "  elif cm in [\"suburban\",\"Suburban\",\"SUBURBAN\"]:\n",
        "    cmr = (-2) * (np.log10(fc/28))**2 - 5.4\n",
        "    return cmr\n",
        "  elif cm in [\"open\",\"Open\",\"OPEN\"]:\n",
        "    cmr = (-4.78) * (np.log10(fc))**2 + 18.33*(np.log10(fc))- 40.94\n",
        "    return cmr"
      ],
      "execution_count": 3,
      "outputs": []
    },
    {
      "cell_type": "code",
      "metadata": {
        "id": "VegdjRSmCSFA"
      },
      "source": [
        "#find c1 and c2 function\n",
        "def c1c2(fc):\n",
        "  if fc in range(400,1500):\n",
        "    c1=69.55\n",
        "    c2=26.16\n",
        "    return c1,c2\n",
        "  elif fc in range(1500,2000):\n",
        "    c1=46.3\n",
        "    c2=33.9\n",
        "    return c1,c2"
      ],
      "execution_count": 4,
      "outputs": []
    },
    {
      "cell_type": "code",
      "metadata": {
        "id": "kfHrRqx0CTzg"
      },
      "source": [
        "#path loss model COST231 hata function\n",
        "def ploss(d,fc,cm,ht,hr):\n",
        "  cmr = areatype(cm,fc)\n",
        "  c1,c2 = c1c2(fc)\n",
        "  dkm = d*1000 #convert m to km\n",
        "\n",
        "  ahr = (1.1*np.log10(fc)-0.7)*hr - (1.56*np.log10(fc)-0.8)\n",
        "  lpdb = c1 + c2*np.log10(fc) - 13.83*np.log10(ht) - ahr + (44.9-(6.55*np.log10(ht)))*np.log10(dkm) + cmr\n",
        "  \n",
        "  lpnum = LtN(-lpdb) #convert dB to numeric\n",
        "\n",
        "  return lpdb,lpnum"
      ],
      "execution_count": 5,
      "outputs": []
    },
    {
      "cell_type": "code",
      "metadata": {
        "colab": {
          "base_uri": "https://localhost:8080/"
        },
        "id": "4_Qv6qo7CfXE",
        "outputId": "15ab0b0c-ac08-47e3-c74e-b4848c8b5ada"
      },
      "source": [
        "#input d(distance(km)), fc(frequency(MHz)), cm(area type(urban,suburban,open)), ht(tx height(m)), hr(rx height(m))\n",
        "pathlossdb,pathlossnum=ploss(5, 1800,\"urban\",30,2)\n",
        "print(\"pathloss in db =\",pathlossdb,\"dB\")\n",
        "print(\"pathloss in numeric\",pathlossnum,\"times\")"
      ],
      "execution_count": 6,
      "outputs": [
        {
          "output_type": "stream",
          "text": [
            "pathloss in db = 265.0374615101126 dB\n",
            "pathloss in numeric 3.135117693048199e-27 times\n"
          ],
          "name": "stdout"
        }
      ]
    }
  ]
}